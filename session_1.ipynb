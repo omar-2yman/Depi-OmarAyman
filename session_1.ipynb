{
 "cells": [
  {
   "cell_type": "code",
   "execution_count": 1,
   "id": "92d7ea8c-7401-4724-bffd-7c4c8698cdc5",
   "metadata": {},
   "outputs": [
    {
     "name": "stdout",
     "output_type": "stream",
     "text": [
      "Python 3.11.7\n"
     ]
    }
   ],
   "source": [
    "!python --version"
   ]
  },
  {
   "cell_type": "code",
   "execution_count": 1,
   "id": "5c6f77d9-5f35-443d-b257-dbad8639c68c",
   "metadata": {},
   "outputs": [
    {
     "name": "stdout",
     "output_type": "stream",
     "text": [
      "15\n"
     ]
    }
   ],
   "source": [
    "print(5*3)"
   ]
  },
  {
   "cell_type": "markdown",
   "id": "e1f62401-7e0f-411f-a98e-7a67523b4486",
   "metadata": {},
   "source": [
    "the result of multi is 15"
   ]
  },
  {
   "cell_type": "markdown",
   "id": "b81286de-ab7a-4255-ab23-f91a1db0a061",
   "metadata": {},
   "source": [
    "# **welcome DEPI Round 2**\n",
    "**IBM Data Science**\n",
    "## Online Group\n",
    "By Omar Ayman\n",
    "- Week 1\n",
    "    - Week 2 \n",
    "\n",
    "✔🤞🙌\n"
   ]
  },
  {
   "cell_type": "code",
   "execution_count": null,
   "id": "5bc9e4cb-9dd0-4b8d-a918-1612ca5f3242",
   "metadata": {},
   "outputs": [],
   "source": []
  },
  {
   "cell_type": "code",
   "execution_count": null,
   "id": "2716ff68-3bf7-4dad-90a3-3e43dac3446f",
   "metadata": {},
   "outputs": [],
   "source": []
  }
 ],
 "metadata": {
  "kernelspec": {
   "display_name": "Python 3 (ipykernel)",
   "language": "python",
   "name": "python3"
  },
  "language_info": {
   "codemirror_mode": {
    "name": "ipython",
    "version": 3
   },
   "file_extension": ".py",
   "mimetype": "text/x-python",
   "name": "python",
   "nbconvert_exporter": "python",
   "pygments_lexer": "ipython3",
   "version": "3.11.7"
  }
 },
 "nbformat": 4,
 "nbformat_minor": 5
}
